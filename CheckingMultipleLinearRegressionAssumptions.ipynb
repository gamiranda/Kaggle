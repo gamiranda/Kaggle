{
 "cells": [
  {
   "cell_type": "code",
   "execution_count": 1,
   "id": "9f021845",
   "metadata": {
    "_cell_guid": "b1076dfc-b9ad-4769-8c92-a6c4dae69d19",
    "_uuid": "8f2839f25d086af736a60e9eeb907d3b93b6e0e5",
    "execution": {
     "iopub.execute_input": "2024-07-23T18:12:23.014281Z",
     "iopub.status.busy": "2024-07-23T18:12:23.013757Z",
     "iopub.status.idle": "2024-07-23T18:12:27.676117Z",
     "shell.execute_reply": "2024-07-23T18:12:27.674916Z"
    },
    "papermill": {
     "duration": 4.675859,
     "end_time": "2024-07-23T18:12:27.678899",
     "exception": false,
     "start_time": "2024-07-23T18:12:23.003040",
     "status": "completed"
    },
    "tags": []
   },
   "outputs": [
    {
     "name": "stdout",
     "output_type": "stream",
     "text": [
      "/kaggle/input/swedish-motor-insurance/SwedishMotorInsurance.csv\n"
     ]
    }
   ],
   "source": [
    "import numpy as np\n",
    "import pandas as pd\n",
    "\n",
    "import os\n",
    "for dirname, _, filenames in os.walk('/kaggle/input'):\n",
    "    for filename in filenames:\n",
    "        print(os.path.join(dirname, filename))\n",
    "        \n",
    "import seaborn as sns\n",
    "import matplotlib.pyplot as plt\n",
    "sns.set_theme(style=\"whitegrid\")\n",
    "\n",
    "import statsmodels\n",
    "import statsmodels.api as sm\n",
    "import statsmodels.stats.api as sms\n",
    "from statsmodels.stats.outliers_influence import variance_inflation_factor\n",
    "\n",
    "import warnings\n",
    "warnings.filterwarnings(\"ignore\")"
   ]
  },
  {
   "cell_type": "markdown",
   "id": "773b3a3e",
   "metadata": {
    "papermill": {
     "duration": 0.00871,
     "end_time": "2024-07-23T18:12:27.696627",
     "exception": false,
     "start_time": "2024-07-23T18:12:27.687917",
     "status": "completed"
    },
    "tags": []
   },
   "source": [
    "# Checking simple linear regression assumptions"
   ]
  },
  {
   "cell_type": "markdown",
   "id": "f0560bd2",
   "metadata": {
    "papermill": {
     "duration": 0.008271,
     "end_time": "2024-07-23T18:12:27.713592",
     "exception": false,
     "start_time": "2024-07-23T18:12:27.705321",
     "status": "completed"
    },
    "tags": []
   },
   "source": [
    "## Simple Linear Regression\n",
    "\n",
    "### Simple Linear Regression assumptions\n",
    "\n",
    "- Linear relationship between X and Y\n",
    "- Resids normally distributed, with mean equal zero\n",
    "- Constante Resid variance Homoscedasticity\n",
    "- No autocerrelation of erros\n",
    "- No multicolinearity "
   ]
  },
  {
   "cell_type": "code",
   "execution_count": 2,
   "id": "8f198e75",
   "metadata": {
    "execution": {
     "iopub.execute_input": "2024-07-23T18:12:27.732621Z",
     "iopub.status.busy": "2024-07-23T18:12:27.732090Z",
     "iopub.status.idle": "2024-07-23T18:12:27.783222Z",
     "shell.execute_reply": "2024-07-23T18:12:27.782126Z"
    },
    "papermill": {
     "duration": 0.063684,
     "end_time": "2024-07-23T18:12:27.785788",
     "exception": false,
     "start_time": "2024-07-23T18:12:27.722104",
     "status": "completed"
    },
    "tags": []
   },
   "outputs": [
    {
     "data": {
      "text/html": [
       "<div>\n",
       "<style scoped>\n",
       "    .dataframe tbody tr th:only-of-type {\n",
       "        vertical-align: middle;\n",
       "    }\n",
       "\n",
       "    .dataframe tbody tr th {\n",
       "        vertical-align: top;\n",
       "    }\n",
       "\n",
       "    .dataframe thead th {\n",
       "        text-align: right;\n",
       "    }\n",
       "</style>\n",
       "<table border=\"1\" class=\"dataframe\">\n",
       "  <thead>\n",
       "    <tr style=\"text-align: right;\">\n",
       "      <th></th>\n",
       "      <th>Claims</th>\n",
       "      <th>Insured</th>\n",
       "      <th>Payment</th>\n",
       "      <th>Kilometres</th>\n",
       "    </tr>\n",
       "  </thead>\n",
       "  <tbody>\n",
       "    <tr>\n",
       "      <th>0</th>\n",
       "      <td>108</td>\n",
       "      <td>455.13</td>\n",
       "      <td>392491</td>\n",
       "      <td>1</td>\n",
       "    </tr>\n",
       "    <tr>\n",
       "      <th>1</th>\n",
       "      <td>19</td>\n",
       "      <td>69.17</td>\n",
       "      <td>46221</td>\n",
       "      <td>1</td>\n",
       "    </tr>\n",
       "    <tr>\n",
       "      <th>2</th>\n",
       "      <td>13</td>\n",
       "      <td>72.88</td>\n",
       "      <td>15694</td>\n",
       "      <td>1</td>\n",
       "    </tr>\n",
       "    <tr>\n",
       "      <th>3</th>\n",
       "      <td>124</td>\n",
       "      <td>1292.39</td>\n",
       "      <td>422201</td>\n",
       "      <td>1</td>\n",
       "    </tr>\n",
       "    <tr>\n",
       "      <th>4</th>\n",
       "      <td>40</td>\n",
       "      <td>191.01</td>\n",
       "      <td>119373</td>\n",
       "      <td>1</td>\n",
       "    </tr>\n",
       "  </tbody>\n",
       "</table>\n",
       "</div>"
      ],
      "text/plain": [
       "   Claims  Insured  Payment  Kilometres\n",
       "0     108   455.13   392491           1\n",
       "1      19    69.17    46221           1\n",
       "2      13    72.88    15694           1\n",
       "3     124  1292.39   422201           1\n",
       "4      40   191.01   119373           1"
      ]
     },
     "execution_count": 2,
     "metadata": {},
     "output_type": "execute_result"
    }
   ],
   "source": [
    "data = pd.read_csv(\"/kaggle/input/swedish-motor-insurance/SwedishMotorInsurance.csv\")\n",
    "data = data[['Claims', 'Insured', 'Payment', 'Kilometres']]\n",
    "data.head()"
   ]
  },
  {
   "cell_type": "code",
   "execution_count": 3,
   "id": "d308c509",
   "metadata": {
    "execution": {
     "iopub.execute_input": "2024-07-23T18:12:27.806130Z",
     "iopub.status.busy": "2024-07-23T18:12:27.805684Z",
     "iopub.status.idle": "2024-07-23T18:12:27.839059Z",
     "shell.execute_reply": "2024-07-23T18:12:27.837446Z"
    },
    "papermill": {
     "duration": 0.04704,
     "end_time": "2024-07-23T18:12:27.841779",
     "exception": false,
     "start_time": "2024-07-23T18:12:27.794739",
     "status": "completed"
    },
    "tags": []
   },
   "outputs": [
    {
     "data": {
      "text/html": [
       "<div>\n",
       "<style scoped>\n",
       "    .dataframe tbody tr th:only-of-type {\n",
       "        vertical-align: middle;\n",
       "    }\n",
       "\n",
       "    .dataframe tbody tr th {\n",
       "        vertical-align: top;\n",
       "    }\n",
       "\n",
       "    .dataframe thead th {\n",
       "        text-align: right;\n",
       "    }\n",
       "</style>\n",
       "<table border=\"1\" class=\"dataframe\">\n",
       "  <thead>\n",
       "    <tr style=\"text-align: right;\">\n",
       "      <th></th>\n",
       "      <th>Claims</th>\n",
       "      <th>Insured</th>\n",
       "      <th>Payment</th>\n",
       "      <th>Kilometres</th>\n",
       "    </tr>\n",
       "  </thead>\n",
       "  <tbody>\n",
       "    <tr>\n",
       "      <th>count</th>\n",
       "      <td>2182.00</td>\n",
       "      <td>2182.00</td>\n",
       "      <td>2182.00</td>\n",
       "      <td>2182.00</td>\n",
       "    </tr>\n",
       "    <tr>\n",
       "      <th>mean</th>\n",
       "      <td>51.87</td>\n",
       "      <td>1092.20</td>\n",
       "      <td>257007.64</td>\n",
       "      <td>2.99</td>\n",
       "    </tr>\n",
       "    <tr>\n",
       "      <th>std</th>\n",
       "      <td>201.71</td>\n",
       "      <td>5661.16</td>\n",
       "      <td>1017282.59</td>\n",
       "      <td>1.41</td>\n",
       "    </tr>\n",
       "    <tr>\n",
       "      <th>min</th>\n",
       "      <td>0.00</td>\n",
       "      <td>0.01</td>\n",
       "      <td>0.00</td>\n",
       "      <td>1.00</td>\n",
       "    </tr>\n",
       "    <tr>\n",
       "      <th>25%</th>\n",
       "      <td>1.00</td>\n",
       "      <td>21.61</td>\n",
       "      <td>2988.75</td>\n",
       "      <td>2.00</td>\n",
       "    </tr>\n",
       "    <tr>\n",
       "      <th>50%</th>\n",
       "      <td>5.00</td>\n",
       "      <td>81.53</td>\n",
       "      <td>27403.50</td>\n",
       "      <td>3.00</td>\n",
       "    </tr>\n",
       "    <tr>\n",
       "      <th>75%</th>\n",
       "      <td>21.00</td>\n",
       "      <td>389.78</td>\n",
       "      <td>111953.75</td>\n",
       "      <td>4.00</td>\n",
       "    </tr>\n",
       "    <tr>\n",
       "      <th>max</th>\n",
       "      <td>3338.00</td>\n",
       "      <td>127687.27</td>\n",
       "      <td>18245026.00</td>\n",
       "      <td>5.00</td>\n",
       "    </tr>\n",
       "  </tbody>\n",
       "</table>\n",
       "</div>"
      ],
      "text/plain": [
       "        Claims    Insured      Payment  Kilometres\n",
       "count  2182.00    2182.00      2182.00     2182.00\n",
       "mean     51.87    1092.20    257007.64        2.99\n",
       "std     201.71    5661.16   1017282.59        1.41\n",
       "min       0.00       0.01         0.00        1.00\n",
       "25%       1.00      21.61      2988.75        2.00\n",
       "50%       5.00      81.53     27403.50        3.00\n",
       "75%      21.00     389.78    111953.75        4.00\n",
       "max    3338.00  127687.27  18245026.00        5.00"
      ]
     },
     "execution_count": 3,
     "metadata": {},
     "output_type": "execute_result"
    }
   ],
   "source": [
    "round(data.describe(), 2)"
   ]
  },
  {
   "cell_type": "markdown",
   "id": "d9f145f3",
   "metadata": {
    "papermill": {
     "duration": 0.010499,
     "end_time": "2024-07-23T18:12:27.863056",
     "exception": false,
     "start_time": "2024-07-23T18:12:27.852557",
     "status": "completed"
    },
    "tags": []
   },
   "source": [
    "## $\\beta$ formulas for simple linear regression"
   ]
  },
  {
   "cell_type": "markdown",
   "id": "e8aaec5b",
   "metadata": {
    "papermill": {
     "duration": 0.008855,
     "end_time": "2024-07-23T18:12:27.881075",
     "exception": false,
     "start_time": "2024-07-23T18:12:27.872220",
     "status": "completed"
    },
    "tags": []
   },
   "source": [
    "$$ \\beta_{1} = {\\sum_{i=1}^{n} (X_{i} - \\bar{X})(Y_{i} - \\bar{Y}) \\over \\sum_{i=1}^{n} (X_{i} - \\bar{X})^2} $$\n",
    "\n",
    "$$ \\beta_{0} = {\\bar{Y} - \\beta_{1}.\\bar{X}} $$"
   ]
  },
  {
   "cell_type": "code",
   "execution_count": 4,
   "id": "1c8c075f",
   "metadata": {
    "execution": {
     "iopub.execute_input": "2024-07-23T18:12:27.902041Z",
     "iopub.status.busy": "2024-07-23T18:12:27.901575Z",
     "iopub.status.idle": "2024-07-23T18:12:27.943159Z",
     "shell.execute_reply": "2024-07-23T18:12:27.941658Z"
    },
    "papermill": {
     "duration": 0.055549,
     "end_time": "2024-07-23T18:12:27.946203",
     "exception": false,
     "start_time": "2024-07-23T18:12:27.890654",
     "status": "completed"
    },
    "tags": []
   },
   "outputs": [
    {
     "name": "stdout",
     "output_type": "stream",
     "text": [
      "Beta0 = -3362.29446716269 \n",
      "Beta1 = 5020.077648225685\n"
     ]
    }
   ],
   "source": [
    "x = data['Claims']\n",
    "y = data['Payment']\n",
    "x_mean = np.mean(x)\n",
    "y_mean = np.mean(y)\n",
    "\n",
    "sum_num = sum([ (x[i] - x_mean)*(y[i] - y_mean) for i in range(len(x))])\n",
    "sum_den = sum([ (x[i] - x_mean)**2 for i in range(len(y))])\n",
    "\n",
    "b1 = sum_num/sum_den\n",
    "b0 = y_mean - b1*x_mean\n",
    "\n",
    "print(f\"Beta0 = {b0} \\nBeta1 = {b1}\")"
   ]
  },
  {
   "cell_type": "markdown",
   "id": "43b79b13",
   "metadata": {
    "papermill": {
     "duration": 0.009454,
     "end_time": "2024-07-23T18:12:27.966885",
     "exception": false,
     "start_time": "2024-07-23T18:12:27.957431",
     "status": "completed"
    },
    "tags": []
   },
   "source": [
    "## $\\beta$ formula for multiple linear regression"
   ]
  },
  {
   "cell_type": "markdown",
   "id": "58f6b971",
   "metadata": {
    "papermill": {
     "duration": 0.010679,
     "end_time": "2024-07-23T18:12:27.987388",
     "exception": false,
     "start_time": "2024-07-23T18:12:27.976709",
     "status": "completed"
    },
    "tags": []
   },
   "source": [
    "$$ \\hat{\\beta} = (X^{T}X)^{-1}X^{T}Y $$\n",
    "\n",
    "- $X$ = matrix with the independent variables values\n",
    "- $X^T$ = matrix X transposed\n",
    "- $(X^{T}X)^{-1}$ = inversed matrix of the multiplication of X matrix by it's transposed\n",
    "- $Y$ = matrix with the dependent variable values"
   ]
  },
  {
   "cell_type": "code",
   "execution_count": 5,
   "id": "7ead84be",
   "metadata": {
    "execution": {
     "iopub.execute_input": "2024-07-23T18:12:28.010622Z",
     "iopub.status.busy": "2024-07-23T18:12:28.010176Z",
     "iopub.status.idle": "2024-07-23T18:12:28.027575Z",
     "shell.execute_reply": "2024-07-23T18:12:28.026112Z"
    },
    "papermill": {
     "duration": 0.034939,
     "end_time": "2024-07-23T18:12:28.032593",
     "exception": false,
     "start_time": "2024-07-23T18:12:27.997654",
     "status": "completed"
    },
    "tags": []
   },
   "outputs": [
    {
     "name": "stdout",
     "output_type": "stream",
     "text": [
      "Beta0 = 3250.7447 \n",
      "Beta1 = 4294.775 \n",
      "Beta2 = 28.3881\n"
     ]
    }
   ],
   "source": [
    "import numpy.linalg as npl\n",
    "\n",
    "X = np.array([np.repeat(1, data.shape[0], axis = 0), #This step is necessary to include the intercept\n",
    "               np.array(data['Claims']),\n",
    "               np.array(data['Insured'])])\n",
    "Y = np.array(data['Payment'])\n",
    "\n",
    "XtX = np.matmul(X, X.transpose()) \n",
    "\n",
    "XtX_1 = npl.inv(XtX)\n",
    "\n",
    "XtY = np.matmul(X, Y)\n",
    "\n",
    "betas = np.matmul(XtX_1, XtY)\n",
    "\n",
    "print(f\"Beta0 = {round(betas[0], 4)} \\nBeta1 = {round(betas[1], 4)} \\nBeta2 = {round(betas[2], 4)}\")"
   ]
  },
  {
   "cell_type": "markdown",
   "id": "415a8c29",
   "metadata": {
    "papermill": {
     "duration": 0.010544,
     "end_time": "2024-07-23T18:12:28.053694",
     "exception": false,
     "start_time": "2024-07-23T18:12:28.043150",
     "status": "completed"
    },
    "tags": []
   },
   "source": [
    "## Fitting the model"
   ]
  },
  {
   "cell_type": "code",
   "execution_count": 6,
   "id": "2032a4e3",
   "metadata": {
    "execution": {
     "iopub.execute_input": "2024-07-23T18:12:28.075431Z",
     "iopub.status.busy": "2024-07-23T18:12:28.075021Z",
     "iopub.status.idle": "2024-07-23T18:12:28.112499Z",
     "shell.execute_reply": "2024-07-23T18:12:28.111199Z"
    },
    "papermill": {
     "duration": 0.051257,
     "end_time": "2024-07-23T18:12:28.115613",
     "exception": false,
     "start_time": "2024-07-23T18:12:28.064356",
     "status": "completed"
    },
    "tags": []
   },
   "outputs": [
    {
     "name": "stdout",
     "output_type": "stream",
     "text": [
      "                            OLS Regression Results                            \n",
      "==============================================================================\n",
      "Dep. Variable:                Payment   R-squared:                       0.995\n",
      "Model:                            OLS   Adj. R-squared:                  0.995\n",
      "Method:                 Least Squares   F-statistic:                 2.211e+05\n",
      "Date:                Tue, 23 Jul 2024   Prob (F-statistic):               0.00\n",
      "Time:                        18:12:28   Log-Likelihood:                -27477.\n",
      "No. Observations:                2182   AIC:                         5.496e+04\n",
      "Df Residuals:                    2179   BIC:                         5.498e+04\n",
      "Df Model:                           2                                         \n",
      "Covariance Type:            nonrobust                                         \n",
      "==============================================================================\n",
      "                 coef    std err          t      P>|t|      [0.025      0.975]\n",
      "------------------------------------------------------------------------------\n",
      "const       3250.7447   1582.708      2.054      0.040     146.971    6354.519\n",
      "Claims      4294.7750     18.282    234.920      0.000    4258.923    4330.627\n",
      "Insured       28.3881      0.651     43.580      0.000      27.111      29.665\n",
      "==============================================================================\n",
      "Omnibus:                      883.032   Durbin-Watson:                   1.885\n",
      "Prob(Omnibus):                  0.000   Jarque-Bera (JB):           130433.487\n",
      "Skew:                           0.830   Prob(JB):                         0.00\n",
      "Kurtosis:                      40.840   Cond. No.                     5.98e+03\n",
      "==============================================================================\n",
      "\n",
      "Notes:\n",
      "[1] Standard Errors assume that the covariance matrix of the errors is correctly specified.\n",
      "[2] The condition number is large, 5.98e+03. This might indicate that there are\n",
      "strong multicollinearity or other numerical problems.\n"
     ]
    }
   ],
   "source": [
    "exog = data[['Claims', 'Insured']]\n",
    "## This step is necessary to include the intercept in the regression.\n",
    "exog = sm.add_constant(exog)\n",
    "\n",
    "model = sm.OLS(endog = data['Payment'], exog = exog).fit()\n",
    "\n",
    "print(model.summary())"
   ]
  },
  {
   "cell_type": "markdown",
   "id": "8cfc0562",
   "metadata": {
    "papermill": {
     "duration": 0.009421,
     "end_time": "2024-07-23T18:12:28.134511",
     "exception": false,
     "start_time": "2024-07-23T18:12:28.125090",
     "status": "completed"
    },
    "tags": []
   },
   "source": [
    "# Checking the Linear Regression Assumptions"
   ]
  },
  {
   "cell_type": "markdown",
   "id": "30e6b410",
   "metadata": {
    "papermill": {
     "duration": 0.009429,
     "end_time": "2024-07-23T18:12:28.154147",
     "exception": false,
     "start_time": "2024-07-23T18:12:28.144718",
     "status": "completed"
    },
    "tags": []
   },
   "source": [
    "## Simple Linear Regression assumptions\n",
    "\n",
    "- Linear relationship between X and Y\n",
    "- Resids normally distributed, with mean equal zero\n",
    "- Constante Resid variance Homoscedasticity\n",
    "- No autocerrelation of erros\n",
    "    plt.plot(residuals.index, residuals) with no pattern\n",
    "    Durbin Watson test\n",
    "- No multicolinearity \n",
    "    statsmodels.stats.outliers_influence import variance_inflation_factor\n",
    "    {X.columns[i]: variance_inflation_factor(X.values, i) for i in range(1, X.shape[1])}\n",
    "- Resids independent from the features\n",
    "    Plot Features x Resid with no pattern"
   ]
  },
  {
   "cell_type": "markdown",
   "id": "b335a4f4",
   "metadata": {
    "papermill": {
     "duration": 0.010797,
     "end_time": "2024-07-23T18:12:28.174336",
     "exception": false,
     "start_time": "2024-07-23T18:12:28.163539",
     "status": "completed"
    },
    "tags": []
   },
   "source": [
    "## Linear relationship between X and Y\n",
    "\n",
    "There are two ways to check this assumption:\n",
    "\n",
    "- Plotting the scatter plot\n",
    "- F statistical test\n",
    "\n",
    "If they are have no linear relationship, you may consider applying some transformation in the X feature (log, squared...)"
   ]
  },
  {
   "cell_type": "markdown",
   "id": "9d33d2cf",
   "metadata": {
    "papermill": {
     "duration": 0.009104,
     "end_time": "2024-07-23T18:12:28.192863",
     "exception": false,
     "start_time": "2024-07-23T18:12:28.183759",
     "status": "completed"
    },
    "tags": []
   },
   "source": [
    "### Plotting the scatter plot"
   ]
  },
  {
   "cell_type": "code",
   "execution_count": 7,
   "id": "855fd6c7",
   "metadata": {
    "execution": {
     "iopub.execute_input": "2024-07-23T18:12:28.216081Z",
     "iopub.status.busy": "2024-07-23T18:12:28.214975Z",
     "iopub.status.idle": "2024-07-23T18:12:28.635150Z",
     "shell.execute_reply": "2024-07-23T18:12:28.634026Z"
    },
    "papermill": {
     "duration": 0.434123,
     "end_time": "2024-07-23T18:12:28.637588",
     "exception": false,
     "start_time": "2024-07-23T18:12:28.203465",
     "status": "completed"
    },
    "tags": []
   },
   "outputs": [
    {
     "data": {
      "image/png": "[encoded data removed]",
      "text/plain": [
       "<Figure size 640x480 with 1 Axes>"
      ]
     },
     "metadata": {},
     "output_type": "display_data"
    }
   ],
   "source": [
    "# Plotting the scatter plot\n",
    "\n",
    "data.plot.scatter(x = 'Claims',\n",
    "                  y = 'Payment')\n",
    "plt.show()"
   ]
  },
  {
   "cell_type": "code",
   "execution_count": 8,
   "id": "3be46962",
   "metadata": {
    "execution": {
     "iopub.execute_input": "2024-07-23T18:12:28.658772Z",
     "iopub.status.busy": "2024-07-23T18:12:28.658411Z",
     "iopub.status.idle": "2024-07-23T18:12:28.994791Z",
     "shell.execute_reply": "2024-07-23T18:12:28.993531Z"
    },
    "papermill": {
     "duration": 0.349833,
     "end_time": "2024-07-23T18:12:28.997235",
     "exception": false,
     "start_time": "2024-07-23T18:12:28.647402",
     "status": "completed"
    },
    "tags": []
   },
   "outputs": [
    {
     "data": {
      "image/png": "[encoded data removed]",
      "text/plain": [
       "<Figure size 640x480 with 1 Axes>"
      ]
     },
     "metadata": {},
     "output_type": "display_data"
    }
   ],
   "source": [
    "# Plotting the scatter plot\n",
    "\n",
    "data.plot.scatter(x = 'Insured',\n",
    "                  y = 'Payment')\n",
    "plt.show()"
   ]
  },
  {
   "cell_type": "markdown",
   "id": "de301254",
   "metadata": {
    "papermill": {
     "duration": 0.010181,
     "end_time": "2024-07-23T18:12:29.018247",
     "exception": false,
     "start_time": "2024-07-23T18:12:29.008066",
     "status": "completed"
    },
    "tags": []
   },
   "source": [
    "### F statistical test"
   ]
  },
  {
   "cell_type": "code",
   "execution_count": 9,
   "id": "e0305c30",
   "metadata": {
    "execution": {
     "iopub.execute_input": "2024-07-23T18:12:29.043957Z",
     "iopub.status.busy": "2024-07-23T18:12:29.043545Z",
     "iopub.status.idle": "2024-07-23T18:12:29.052473Z",
     "shell.execute_reply": "2024-07-23T18:12:29.050959Z"
    },
    "papermill": {
     "duration": 0.024408,
     "end_time": "2024-07-23T18:12:29.055087",
     "exception": false,
     "start_time": "2024-07-23T18:12:29.030679",
     "status": "completed"
    },
    "tags": []
   },
   "outputs": [
    {
     "name": "stdout",
     "output_type": "stream",
     "text": [
      "<F test: F=55187.262845552104, p=0.0, df_denom=2.18e+03, df_num=1>\n"
     ]
    }
   ],
   "source": [
    "print(model.f_test(\"Claims = 0\"))\n",
    "\n",
    "# The F test check the hypotesis if the Beta for the variable Claims is equal zero. \n",
    "# If the hypotesis is true, there are evidences to say that there is no linear relationship between Claims and Payment.\n",
    "\n",
    "# It is importante to say that both statistical test and plotting are importante tools to check this assumption\n"
   ]
  },
  {
   "cell_type": "markdown",
   "id": "c9f7cbe9",
   "metadata": {
    "papermill": {
     "duration": 0.010012,
     "end_time": "2024-07-23T18:12:29.075511",
     "exception": false,
     "start_time": "2024-07-23T18:12:29.065499",
     "status": "completed"
    },
    "tags": []
   },
   "source": [
    "- The plots show clear linear relationship between both independent variables and Y.\n",
    "- The p-value for the F test is really low, lower than 0.05\n",
    "\n",
    "So there are evidences to confirm a linear relationship between Claims and Payment / Insured and Payment."
   ]
  },
  {
   "cell_type": "markdown",
   "id": "a08d345a",
   "metadata": {
    "papermill": {
     "duration": 0.011001,
     "end_time": "2024-07-23T18:12:29.097051",
     "exception": false,
     "start_time": "2024-07-23T18:12:29.086050",
     "status": "completed"
    },
    "tags": []
   },
   "source": [
    "## Resids normally distributed, with mean equal zero\n",
    "\n",
    "- Plotting the QQPlot\n",
    "- Kolmogorov-Smirnov test for normality"
   ]
  },
  {
   "cell_type": "markdown",
   "id": "d8631f63",
   "metadata": {
    "papermill": {
     "duration": 0.010187,
     "end_time": "2024-07-23T18:12:29.117566",
     "exception": false,
     "start_time": "2024-07-23T18:12:29.107379",
     "status": "completed"
    },
    "tags": []
   },
   "source": [
    "### Plotting the QQPlot"
   ]
  },
  {
   "cell_type": "code",
   "execution_count": 10,
   "id": "840ebbcb",
   "metadata": {
    "execution": {
     "iopub.execute_input": "2024-07-23T18:12:29.140917Z",
     "iopub.status.busy": "2024-07-23T18:12:29.139920Z",
     "iopub.status.idle": "2024-07-23T18:12:29.479311Z",
     "shell.execute_reply": "2024-07-23T18:12:29.477720Z"
    },
    "papermill": {
     "duration": 0.354343,
     "end_time": "2024-07-23T18:12:29.482566",
     "exception": false,
     "start_time": "2024-07-23T18:12:29.128223",
     "status": "completed"
    },
    "tags": []
   },
   "outputs": [
    {
     "data": {
      "image/png": "[encoded data removed]",
      "text/plain": [
       "<Figure size 640x480 with 1 Axes>"
      ]
     },
     "metadata": {},
     "output_type": "display_data"
    }
   ],
   "source": [
    "#stats.probplot(model.resid, dist=\"norm\", plot=pylab)\n",
    "sm.qqplot(model.resid)\n",
    "\n",
    "plt.show()"
   ]
  },
  {
   "cell_type": "code",
   "execution_count": 11,
   "id": "330c1a58",
   "metadata": {
    "execution": {
     "iopub.execute_input": "2024-07-23T18:12:29.509253Z",
     "iopub.status.busy": "2024-07-23T18:12:29.508773Z",
     "iopub.status.idle": "2024-07-23T18:12:29.982015Z",
     "shell.execute_reply": "2024-07-23T18:12:29.980868Z"
    },
    "papermill": {
     "duration": 0.490196,
     "end_time": "2024-07-23T18:12:29.984628",
     "exception": false,
     "start_time": "2024-07-23T18:12:29.494432",
     "status": "completed"
    },
    "tags": []
   },
   "outputs": [
    {
     "data": {
      "image/png": "[encoded data removed]",
      "text/plain": [
       "<Figure size 640x480 with 1 Axes>"
      ]
     },
     "metadata": {},
     "output_type": "display_data"
    }
   ],
   "source": [
    "sns.distplot(model.resid)\n",
    "plt.show()"
   ]
  },
  {
   "cell_type": "markdown",
   "id": "b58c08e6",
   "metadata": {
    "papermill": {
     "duration": 0.012351,
     "end_time": "2024-07-23T18:12:30.008686",
     "exception": false,
     "start_time": "2024-07-23T18:12:29.996335",
     "status": "completed"
    },
    "tags": []
   },
   "source": [
    "### Kolmogorov-Smirnov Test"
   ]
  },
  {
   "cell_type": "code",
   "execution_count": 12,
   "id": "dffd992c",
   "metadata": {
    "execution": {
     "iopub.execute_input": "2024-07-23T18:12:30.035298Z",
     "iopub.status.busy": "2024-07-23T18:12:30.034919Z",
     "iopub.status.idle": "2024-07-23T18:12:30.042960Z",
     "shell.execute_reply": "2024-07-23T18:12:30.041536Z"
    },
    "papermill": {
     "duration": 0.023903,
     "end_time": "2024-07-23T18:12:30.045602",
     "exception": false,
     "start_time": "2024-07-23T18:12:30.021699",
     "status": "completed"
    },
    "tags": []
   },
   "outputs": [
    {
     "name": "stdout",
     "output_type": "stream",
     "text": [
      "Test statistic:  0.21998183942732608 \n",
      "p-value:  0.0009999999999998899\n"
     ]
    }
   ],
   "source": [
    "ks_stat, pvalue = statsmodels.stats.diagnostic.kstest_normal(model.resid, dist='norm', pvalmethod='table')\n",
    "\n",
    "print(\"Test statistic: \", ks_stat, \"\\np-value: \", pvalue)"
   ]
  },
  {
   "cell_type": "markdown",
   "id": "1e2b4ae4",
   "metadata": {
    "papermill": {
     "duration": 0.011436,
     "end_time": "2024-07-23T18:12:30.068476",
     "exception": false,
     "start_time": "2024-07-23T18:12:30.057040",
     "status": "completed"
    },
    "tags": []
   },
   "source": [
    "- The QQPLOT is in a quite strange shape, but we could say it's normaly distributed;\n",
    "- The histogram is really thin, but distributed arround the mean zero;\n",
    "- The Kolmogorov-Smirnov Test returns a p-value = 0.0009, lower than 0.05. \n",
    "\n",
    "So there are evidences to say the resid are normaly distributed. Confirming this assumption."
   ]
  },
  {
   "cell_type": "markdown",
   "id": "4a95c7ed",
   "metadata": {
    "papermill": {
     "duration": 0.01111,
     "end_time": "2024-07-23T18:12:30.091045",
     "exception": false,
     "start_time": "2024-07-23T18:12:30.079935",
     "status": "completed"
    },
    "tags": []
   },
   "source": [
    "## No autocorrelation of the resids"
   ]
  },
  {
   "cell_type": "markdown",
   "id": "706806cf",
   "metadata": {
    "papermill": {
     "duration": 0.010979,
     "end_time": "2024-07-23T18:12:30.113869",
     "exception": false,
     "start_time": "2024-07-23T18:12:30.102890",
     "status": "completed"
    },
    "tags": []
   },
   "source": [
    "### Plotting the resids"
   ]
  },
  {
   "cell_type": "code",
   "execution_count": 13,
   "id": "1e167880",
   "metadata": {
    "execution": {
     "iopub.execute_input": "2024-07-23T18:12:30.138363Z",
     "iopub.status.busy": "2024-07-23T18:12:30.137986Z",
     "iopub.status.idle": "2024-07-23T18:12:30.406857Z",
     "shell.execute_reply": "2024-07-23T18:12:30.405580Z"
    },
    "papermill": {
     "duration": 0.284215,
     "end_time": "2024-07-23T18:12:30.409488",
     "exception": false,
     "start_time": "2024-07-23T18:12:30.125273",
     "status": "completed"
    },
    "tags": []
   },
   "outputs": [
    {
     "data": {
      "image/png": "[encoded data removed]",
      "text/plain": [
       "<Figure size 640x480 with 1 Axes>"
      ]
     },
     "metadata": {},
     "output_type": "display_data"
    }
   ],
   "source": [
    "plt.plot(model.resid.index, model.resid)\n",
    "plt.show()"
   ]
  },
  {
   "cell_type": "markdown",
   "id": "1872ebea",
   "metadata": {
    "papermill": {
     "duration": 0.012347,
     "end_time": "2024-07-23T18:12:30.435764",
     "exception": false,
     "start_time": "2024-07-23T18:12:30.423417",
     "status": "completed"
    },
    "tags": []
   },
   "source": [
    "### Durbin Watson Test"
   ]
  },
  {
   "cell_type": "code",
   "execution_count": 14,
   "id": "3f4105c3",
   "metadata": {
    "execution": {
     "iopub.execute_input": "2024-07-23T18:12:30.462460Z",
     "iopub.status.busy": "2024-07-23T18:12:30.462048Z",
     "iopub.status.idle": "2024-07-23T18:12:30.468115Z",
     "shell.execute_reply": "2024-07-23T18:12:30.467053Z"
    },
    "papermill": {
     "duration": 0.022057,
     "end_time": "2024-07-23T18:12:30.470899",
     "exception": false,
     "start_time": "2024-07-23T18:12:30.448842",
     "status": "completed"
    },
    "tags": []
   },
   "outputs": [
    {
     "name": "stdout",
     "output_type": "stream",
     "text": [
      "1.8853\n"
     ]
    }
   ],
   "source": [
    "# https://www.statsmodels.org/dev/generated/statsmodels.stats.stattools.durbin_watson.html\n",
    "print(round(statsmodels.stats.stattools.durbin_watson(model.resid), 4))"
   ]
  },
  {
   "cell_type": "markdown",
   "id": "440addee",
   "metadata": {
    "papermill": {
     "duration": 0.011504,
     "end_time": "2024-07-23T18:12:30.494509",
     "exception": false,
     "start_time": "2024-07-23T18:12:30.483005",
     "status": "completed"
    },
    "tags": []
   },
   "source": [
    "- It doesn't seems like there is autocorrelation between the resids, as we can't see a pattern in the plot.\n",
    "- Durbin Watson Test returns a test statistic equal 1.8853. Durbin Watson Test Statistic return a value between 0 and 4. If it is close to 2, indicates no autocorrelation."
   ]
  },
  {
   "cell_type": "markdown",
   "id": "b4a3bd13",
   "metadata": {
    "papermill": {
     "duration": 0.011657,
     "end_time": "2024-07-23T18:12:30.519581",
     "exception": false,
     "start_time": "2024-07-23T18:12:30.507924",
     "status": "completed"
    },
    "tags": []
   },
   "source": [
    "## Constante Resid variance (homoscedasticity) - Bresch Pagan test\n",
    "\n",
    "- Plotting the resids X adjusted values\n",
    "- Bresch Pagan Test"
   ]
  },
  {
   "cell_type": "markdown",
   "id": "3be83337",
   "metadata": {
    "papermill": {
     "duration": 0.011644,
     "end_time": "2024-07-23T18:12:30.543427",
     "exception": false,
     "start_time": "2024-07-23T18:12:30.531783",
     "status": "completed"
    },
    "tags": []
   },
   "source": [
    "### Plotting the resids X adjusted values"
   ]
  },
  {
   "cell_type": "code",
   "execution_count": 15,
   "id": "47b602b3",
   "metadata": {
    "execution": {
     "iopub.execute_input": "2024-07-23T18:12:30.569488Z",
     "iopub.status.busy": "2024-07-23T18:12:30.569091Z",
     "iopub.status.idle": "2024-07-23T18:12:30.882386Z",
     "shell.execute_reply": "2024-07-23T18:12:30.881138Z"
    },
    "papermill": {
     "duration": 0.3293,
     "end_time": "2024-07-23T18:12:30.884866",
     "exception": false,
     "start_time": "2024-07-23T18:12:30.555566",
     "status": "completed"
    },
    "tags": []
   },
   "outputs": [
    {
     "data": {
      "image/png": "[encoded data removed]",
      "text/plain": [
       "<Figure size 640x480 with 1 Axes>"
      ]
     },
     "metadata": {},
     "output_type": "display_data"
    }
   ],
   "source": [
    "exog = data[['Claims', 'Insured']]\n",
    "exog = sm.add_constant(exog)\n",
    "\n",
    "d = {'Resid': model.resid,\n",
    "     'Y_hat': model.predict(exog)  }\n",
    "\n",
    "data_resids = pd.DataFrame(d)\n",
    "\n",
    "data_resids.plot.scatter(x = 'Y_hat',\n",
    "                  y = 'Resid')\n",
    "#plot horizontal line\n",
    "plt.show()"
   ]
  },
  {
   "cell_type": "markdown",
   "id": "ce271783",
   "metadata": {
    "papermill": {
     "duration": 0.012177,
     "end_time": "2024-07-23T18:12:30.909498",
     "exception": false,
     "start_time": "2024-07-23T18:12:30.897321",
     "status": "completed"
    },
    "tags": []
   },
   "source": [
    "### Bresch Pagan Test"
   ]
  },
  {
   "cell_type": "code",
   "execution_count": 16,
   "id": "a1d599bf",
   "metadata": {
    "execution": {
     "iopub.execute_input": "2024-07-23T18:12:30.936276Z",
     "iopub.status.busy": "2024-07-23T18:12:30.935895Z",
     "iopub.status.idle": "2024-07-23T18:12:30.945602Z",
     "shell.execute_reply": "2024-07-23T18:12:30.944196Z"
    },
    "papermill": {
     "duration": 0.025918,
     "end_time": "2024-07-23T18:12:30.947906",
     "exception": false,
     "start_time": "2024-07-23T18:12:30.921988",
     "status": "completed"
    },
    "tags": []
   },
   "outputs": [
    {
     "name": "stdout",
     "output_type": "stream",
     "text": [
      "Test statistic:  618.6104896543025 \n",
      "p-value:  1.7097552538591094e-213\n"
     ]
    }
   ],
   "source": [
    "a,b, bp_stat, pvalue = sms.het_breuschpagan(model.resid, model.model.exog)\n",
    "\n",
    "print(\"Test statistic: \", bp_stat, \"\\np-value: \", pvalue)"
   ]
  },
  {
   "cell_type": "markdown",
   "id": "99f373e7",
   "metadata": {
    "papermill": {
     "duration": 0.014843,
     "end_time": "2024-07-23T18:12:31.035487",
     "exception": false,
     "start_time": "2024-07-23T18:12:31.020644",
     "status": "completed"
    },
    "tags": []
   },
   "source": [
    "- The resids are distributed around zero, but indicates that there are outliers in the data.\n",
    "- The Bresch Pagan test returns a really low p-value, lower than 0.05.\n",
    "\n",
    "So there are evidences to confirm homoscedasticity. "
   ]
  },
  {
   "cell_type": "markdown",
   "id": "885d4386",
   "metadata": {
    "papermill": {
     "duration": 0.012724,
     "end_time": "2024-07-23T18:12:31.061504",
     "exception": false,
     "start_time": "2024-07-23T18:12:31.048780",
     "status": "completed"
    },
    "tags": []
   },
   "source": [
    "## No multicolinearity\n",
    "\n",
    "- Check the VIF indicator"
   ]
  },
  {
   "cell_type": "code",
   "execution_count": 17,
   "id": "6d3f3ca3",
   "metadata": {
    "execution": {
     "iopub.execute_input": "2024-07-23T18:12:31.090377Z",
     "iopub.status.busy": "2024-07-23T18:12:31.089989Z",
     "iopub.status.idle": "2024-07-23T18:12:31.103215Z",
     "shell.execute_reply": "2024-07-23T18:12:31.102026Z"
    },
    "papermill": {
     "duration": 0.031633,
     "end_time": "2024-07-23T18:12:31.106192",
     "exception": false,
     "start_time": "2024-07-23T18:12:31.074559",
     "status": "completed"
    },
    "tags": []
   },
   "outputs": [
    {
     "data": {
      "text/plain": [
       "{'const': 1.0760368975500787,\n",
       " 'Claims': 5.8388383318303685,\n",
       " 'Insured': 5.8388383318303685}"
      ]
     },
     "execution_count": 17,
     "metadata": {},
     "output_type": "execute_result"
    }
   ],
   "source": [
    "{exog.columns[i]: variance_inflation_factor(exog = exog.values, exog_idx = i) for i in range(0, exog.shape[1])}"
   ]
  },
  {
   "cell_type": "markdown",
   "id": "2b5a334d",
   "metadata": {
    "papermill": {
     "duration": 0.012886,
     "end_time": "2024-07-23T18:12:31.132144",
     "exception": false,
     "start_time": "2024-07-23T18:12:31.119258",
     "status": "completed"
    },
    "tags": []
   },
   "source": [
    "- Claims and Insured VIFs are greater than 5, indicating high multicollinearity between those variables."
   ]
  },
  {
   "cell_type": "markdown",
   "id": "728af7d2",
   "metadata": {
    "papermill": {
     "duration": 0.012854,
     "end_time": "2024-07-23T18:12:31.158697",
     "exception": false,
     "start_time": "2024-07-23T18:12:31.145843",
     "status": "completed"
    },
    "tags": []
   },
   "source": [
    "Explanation of some statsmodels OLS result:\n",
    "\n",
    "- Dep. Variable: Y from the regression;\n",
    "- Model: The model fitted;\n",
    "- Method: The method to estimate the $\\beta_{0}$ and $\\beta_{1}$;\n",
    "- Date: Date when the model were fitted;\n",
    "- Time: Hour when the model were fitted;\n",
    "- No. Observations: Number of observations used to fit the model;\n",
    "- Df Residuals: Degrees of freedom for the residuals;\n",
    "- Df Model: Degrees of freedom for the model;\n",
    "- R-squared: The R^2 for the fitted model; Proportion of the Y variability explained by X;\n",
    "- Adj. R-squared: The adjusted R^2 for the fitted model;\n",
    "- F-statistic: Statistical test to check linear relationship between the variables;\n",
    "- Prob (F-statistic): p-value for the F test;\n",
    "- AIC: Akaike Information Criterion, metric used to compare several models. The lower AIC, the better;\n",
    "- BIC: Bayesian Information Criterion, metric also used to compare several models. The lower BIC, the better;\n",
    "- coef: The betas for the model;\n",
    "- t: The T statistic for the refered Beta;\n",
    "- P>|t|: The p-value for the T statistica for the refered Beta;\n",
    "- Omnibus: In this case, statistical test to check if the resids are Normally distributed;\n",
    "- Prob (Omnibus): p-value to omnibus test;\n",
    "- Durbin-Watson: Statistical test to check resids first order autocorrelation. Between 0 and 4. Close to 2, no resids first order autocorrelation. Between 0 and 2, positive autocorrelation. Between 2 and 4, negative autocorrelation;\n",
    "- Jarque-Bera (JB): Statistical test to check with the resids are Normally distributed;\n",
    "- Prob(JB): p-value for the Jarque-Bera test;"
   ]
  }
 ],
 "metadata": {
  "kaggle": {
   "accelerator": "none",
   "dataSources": [
    {
     "datasetId": 12630,
     "sourceId": 17265,
     "sourceType": "datasetVersion"
    }
   ],
   "dockerImageVersionId": 30732,
   "isGpuEnabled": false,
   "isInternetEnabled": true,
   "language": "python",
   "sourceType": "notebook"
  },
  "kernelspec": {
   "display_name": "Python 3",
   "language": "python",
   "name": "python3"
  },
  "language_info": {
   "codemirror_mode": {
    "name": "ipython",
    "version": 3
   },
   "file_extension": ".py",
   "mimetype": "text/x-python",
   "name": "python",
   "nbconvert_exporter": "python",
   "pygments_lexer": "ipython3",
   "version": "3.10.13"
  },
  "papermill": {
   "default_parameters": {},
   "duration": 12.145916,
   "end_time": "2024-07-23T18:12:31.896321",
   "environment_variables": {},
   "exception": null,
   "input_path": "__notebook__.ipynb",
   "output_path": "__notebook__.ipynb",
   "parameters": {},
   "start_time": "2024-07-23T18:12:19.750405",
   "version": "2.5.0"
  }
 },
 "nbformat": 4,
 "nbformat_minor": 5
}
