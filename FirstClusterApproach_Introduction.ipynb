{
 "cells": [
  {
   "cell_type": "markdown",
   "id": "b32f5363",
   "metadata": {
    "_cell_guid": "b1076dfc-b9ad-4769-8c92-a6c4dae69d19",
    "_uuid": "8f2839f25d086af736a60e9eeb907d3b93b6e0e5",
    "execution": {
     "iopub.execute_input": "2024-06-18T16:52:08.372770Z",
     "iopub.status.busy": "2024-06-18T16:52:08.372365Z",
     "iopub.status.idle": "2024-06-18T16:52:09.646813Z",
     "shell.execute_reply": "2024-06-18T16:52:09.645428Z",
     "shell.execute_reply.started": "2024-06-18T16:52:08.372733Z"
    },
    "papermill": {
     "duration": 0.005289,
     "end_time": "2024-06-21T20:02:06.266553",
     "exception": false,
     "start_time": "2024-06-21T20:02:06.261264",
     "status": "completed"
    },
    "tags": []
   },
   "source": [
    "# First cluster approach - Introduction to clusterin"
   ]
  },
  {
   "cell_type": "markdown",
   "id": "8476af63",
   "metadata": {
    "papermill": {
     "duration": 0.004262,
     "end_time": "2024-06-21T20:02:06.276014",
     "exception": false,
     "start_time": "2024-06-21T20:02:06.271752",
     "status": "completed"
    },
    "tags": []
   },
   "source": [
    "Creating a cluster model using ColumnTransformer and Pipeline to pre-process the features.\n",
    "\n",
    "### Main packages:\n",
    "\n",
    "- yellowbrick to visualize the elbow and silhouette methods;\n",
    "- sklearn to create pre processing pipeline and train the model."
   ]
  },
  {
   "cell_type": "code",
   "execution_count": 1,
   "id": "aba40de8",
   "metadata": {
    "execution": {
     "iopub.execute_input": "2024-06-21T20:02:06.286818Z",
     "iopub.status.busy": "2024-06-21T20:02:06.286397Z",
     "iopub.status.idle": "2024-06-21T20:02:07.081410Z",
     "shell.execute_reply": "2024-06-21T20:02:07.080158Z"
    },
    "papermill": {
     "duration": 0.803275,
     "end_time": "2024-06-21T20:02:07.083806",
     "exception": false,
     "start_time": "2024-06-21T20:02:06.280531",
     "status": "completed"
    },
    "tags": []
   },
   "outputs": [
    {
     "name": "stdout",
     "output_type": "stream",
     "text": [
      "/kaggle/input/customer-segmentation-clustering/customer_segmentation.csv\n"
     ]
    }
   ],
   "source": [
    "import numpy as np\n",
    "import pandas as pd\n",
    "\n",
    "import os\n",
    "for dirname, _, filenames in os.walk('/kaggle/input'):\n",
    "    for filename in filenames:\n",
    "        print(os.path.join(dirname, filename))"
   ]
  },
  {
   "cell_type": "code",
   "execution_count": 2,
   "id": "8ff94073",
   "metadata": {
    "execution": {
     "iopub.execute_input": "2024-06-21T20:02:07.095323Z",
     "iopub.status.busy": "2024-06-21T20:02:07.094818Z",
     "iopub.status.idle": "2024-06-21T20:02:07.166813Z",
     "shell.execute_reply": "2024-06-21T20:02:07.165694Z"
    },
    "papermill": {
     "duration": 0.080333,
     "end_time": "2024-06-21T20:02:07.169127",
     "exception": false,
     "start_time": "2024-06-21T20:02:07.088794",
     "status": "completed"
    },
    "tags": []
   },
   "outputs": [
    {
     "data": {
      "text/html": [
       "<div>\n",
       "<style scoped>\n",
       "    .dataframe tbody tr th:only-of-type {\n",
       "        vertical-align: middle;\n",
       "    }\n",
       "\n",
       "    .dataframe tbody tr th {\n",
       "        vertical-align: top;\n",
       "    }\n",
       "\n",
       "    .dataframe thead th {\n",
       "        text-align: right;\n",
       "    }\n",
       "</style>\n",
       "<table border=\"1\" class=\"dataframe\">\n",
       "  <thead>\n",
       "    <tr style=\"text-align: right;\">\n",
       "      <th></th>\n",
       "      <th>ID</th>\n",
       "      <th>Year_Birth</th>\n",
       "      <th>Education</th>\n",
       "      <th>Marital_Status</th>\n",
       "      <th>Income</th>\n",
       "      <th>Kidhome</th>\n",
       "      <th>Teenhome</th>\n",
       "      <th>Dt_Customer</th>\n",
       "      <th>Recency</th>\n",
       "      <th>MntWines</th>\n",
       "      <th>...</th>\n",
       "      <th>NumWebVisitsMonth</th>\n",
       "      <th>AcceptedCmp3</th>\n",
       "      <th>AcceptedCmp4</th>\n",
       "      <th>AcceptedCmp5</th>\n",
       "      <th>AcceptedCmp1</th>\n",
       "      <th>AcceptedCmp2</th>\n",
       "      <th>Complain</th>\n",
       "      <th>Z_CostContact</th>\n",
       "      <th>Z_Revenue</th>\n",
       "      <th>Response</th>\n",
       "    </tr>\n",
       "  </thead>\n",
       "  <tbody>\n",
       "    <tr>\n",
       "      <th>0</th>\n",
       "      <td>5524</td>\n",
       "      <td>1957</td>\n",
       "      <td>Graduation</td>\n",
       "      <td>Single</td>\n",
       "      <td>58138.0</td>\n",
       "      <td>0</td>\n",
       "      <td>0</td>\n",
       "      <td>04-09-2012</td>\n",
       "      <td>58</td>\n",
       "      <td>635</td>\n",
       "      <td>...</td>\n",
       "      <td>7</td>\n",
       "      <td>0</td>\n",
       "      <td>0</td>\n",
       "      <td>0</td>\n",
       "      <td>0</td>\n",
       "      <td>0</td>\n",
       "      <td>0</td>\n",
       "      <td>3</td>\n",
       "      <td>11</td>\n",
       "      <td>1</td>\n",
       "    </tr>\n",
       "    <tr>\n",
       "      <th>1</th>\n",
       "      <td>2174</td>\n",
       "      <td>1954</td>\n",
       "      <td>Graduation</td>\n",
       "      <td>Single</td>\n",
       "      <td>46344.0</td>\n",
       "      <td>1</td>\n",
       "      <td>1</td>\n",
       "      <td>08-03-2014</td>\n",
       "      <td>38</td>\n",
       "      <td>11</td>\n",
       "      <td>...</td>\n",
       "      <td>5</td>\n",
       "      <td>0</td>\n",
       "      <td>0</td>\n",
       "      <td>0</td>\n",
       "      <td>0</td>\n",
       "      <td>0</td>\n",
       "      <td>0</td>\n",
       "      <td>3</td>\n",
       "      <td>11</td>\n",
       "      <td>0</td>\n",
       "    </tr>\n",
       "    <tr>\n",
       "      <th>2</th>\n",
       "      <td>4141</td>\n",
       "      <td>1965</td>\n",
       "      <td>Graduation</td>\n",
       "      <td>Together</td>\n",
       "      <td>71613.0</td>\n",
       "      <td>0</td>\n",
       "      <td>0</td>\n",
       "      <td>21-08-2013</td>\n",
       "      <td>26</td>\n",
       "      <td>426</td>\n",
       "      <td>...</td>\n",
       "      <td>4</td>\n",
       "      <td>0</td>\n",
       "      <td>0</td>\n",
       "      <td>0</td>\n",
       "      <td>0</td>\n",
       "      <td>0</td>\n",
       "      <td>0</td>\n",
       "      <td>3</td>\n",
       "      <td>11</td>\n",
       "      <td>0</td>\n",
       "    </tr>\n",
       "    <tr>\n",
       "      <th>3</th>\n",
       "      <td>6182</td>\n",
       "      <td>1984</td>\n",
       "      <td>Graduation</td>\n",
       "      <td>Together</td>\n",
       "      <td>26646.0</td>\n",
       "      <td>1</td>\n",
       "      <td>0</td>\n",
       "      <td>10-02-2014</td>\n",
       "      <td>26</td>\n",
       "      <td>11</td>\n",
       "      <td>...</td>\n",
       "      <td>6</td>\n",
       "      <td>0</td>\n",
       "      <td>0</td>\n",
       "      <td>0</td>\n",
       "      <td>0</td>\n",
       "      <td>0</td>\n",
       "      <td>0</td>\n",
       "      <td>3</td>\n",
       "      <td>11</td>\n",
       "      <td>0</td>\n",
       "    </tr>\n",
       "    <tr>\n",
       "      <th>4</th>\n",
       "      <td>5324</td>\n",
       "      <td>1981</td>\n",
       "      <td>PhD</td>\n",
       "      <td>Married</td>\n",
       "      <td>58293.0</td>\n",
       "      <td>1</td>\n",
       "      <td>0</td>\n",
       "      <td>19-01-2014</td>\n",
       "      <td>94</td>\n",
       "      <td>173</td>\n",
       "      <td>...</td>\n",
       "      <td>5</td>\n",
       "      <td>0</td>\n",
       "      <td>0</td>\n",
       "      <td>0</td>\n",
       "      <td>0</td>\n",
       "      <td>0</td>\n",
       "      <td>0</td>\n",
       "      <td>3</td>\n",
       "      <td>11</td>\n",
       "      <td>0</td>\n",
       "    </tr>\n",
       "  </tbody>\n",
       "</table>\n",
       "<p>5 rows × 29 columns</p>\n",
       "</div>"
      ],
      "text/plain": [
       "     ID  Year_Birth   Education Marital_Status   Income  Kidhome  Teenhome  \\\n",
       "0  5524        1957  Graduation         Single  58138.0        0         0   \n",
       "1  2174        1954  Graduation         Single  46344.0        1         1   \n",
       "2  4141        1965  Graduation       Together  71613.0        0         0   \n",
       "3  6182        1984  Graduation       Together  26646.0        1         0   \n",
       "4  5324        1981         PhD        Married  58293.0        1         0   \n",
       "\n",
       "  Dt_Customer  Recency  MntWines  ...  NumWebVisitsMonth  AcceptedCmp3  \\\n",
       "0  04-09-2012       58       635  ...                  7             0   \n",
       "1  08-03-2014       38        11  ...                  5             0   \n",
       "2  21-08-2013       26       426  ...                  4             0   \n",
       "3  10-02-2014       26        11  ...                  6             0   \n",
       "4  19-01-2014       94       173  ...                  5             0   \n",
       "\n",
       "   AcceptedCmp4  AcceptedCmp5  AcceptedCmp1  AcceptedCmp2  Complain  \\\n",
       "0             0             0             0             0         0   \n",
       "1             0             0             0             0         0   \n",
       "2             0             0             0             0         0   \n",
       "3             0             0             0             0         0   \n",
       "4             0             0             0             0         0   \n",
       "\n",
       "   Z_CostContact  Z_Revenue  Response  \n",
       "0              3         11         1  \n",
       "1              3         11         0  \n",
       "2              3         11         0  \n",
       "3              3         11         0  \n",
       "4              3         11         0  \n",
       "\n",
       "[5 rows x 29 columns]"
      ]
     },
     "execution_count": 2,
     "metadata": {},
     "output_type": "execute_result"
    }
   ],
   "source": [
    "data = pd.read_csv(\"/kaggle/input/customer-segmentation-clustering/customer_segmentation.csv\")\n",
    "data.head()"
   ]
  },
  {
   "cell_type": "code",
   "execution_count": 3,
   "id": "b0b7a12e",
   "metadata": {
    "execution": {
     "iopub.execute_input": "2024-06-21T20:02:07.181495Z",
     "iopub.status.busy": "2024-06-21T20:02:07.180784Z",
     "iopub.status.idle": "2024-06-21T20:02:07.202519Z",
     "shell.execute_reply": "2024-06-21T20:02:07.201491Z"
    },
    "papermill": {
     "duration": 0.031102,
     "end_time": "2024-06-21T20:02:07.205418",
     "exception": false,
     "start_time": "2024-06-21T20:02:07.174316",
     "status": "completed"
    },
    "tags": []
   },
   "outputs": [
    {
     "name": "stdout",
     "output_type": "stream",
     "text": [
      "<class 'pandas.core.frame.DataFrame'>\n",
      "RangeIndex: 2240 entries, 0 to 2239\n",
      "Data columns (total 29 columns):\n",
      " #   Column               Non-Null Count  Dtype  \n",
      "---  ------               --------------  -----  \n",
      " 0   ID                   2240 non-null   int64  \n",
      " 1   Year_Birth           2240 non-null   int64  \n",
      " 2   Education            2240 non-null   object \n",
      " 3   Marital_Status       2240 non-null   object \n",
      " 4   Income               2216 non-null   float64\n",
      " 5   Kidhome              2240 non-null   int64  \n",
      " 6   Teenhome             2240 non-null   int64  \n",
      " 7   Dt_Customer          2240 non-null   object \n",
      " 8   Recency              2240 non-null   int64  \n",
      " 9   MntWines             2240 non-null   int64  \n",
      " 10  MntFruits            2240 non-null   int64  \n",
      " 11  MntMeatProducts      2240 non-null   int64  \n",
      " 12  MntFishProducts      2240 non-null   int64  \n",
      " 13  MntSweetProducts     2240 non-null   int64  \n",
      " 14  MntGoldProds         2240 non-null   int64  \n",
      " 15  NumDealsPurchases    2240 non-null   int64  \n",
      " 16  NumWebPurchases      2240 non-null   int64  \n",
      " 17  NumCatalogPurchases  2240 non-null   int64  \n",
      " 18  NumStorePurchases    2240 non-null   int64  \n",
      " 19  NumWebVisitsMonth    2240 non-null   int64  \n",
      " 20  AcceptedCmp3         2240 non-null   int64  \n",
      " 21  AcceptedCmp4         2240 non-null   int64  \n",
      " 22  AcceptedCmp5         2240 non-null   int64  \n",
      " 23  AcceptedCmp1         2240 non-null   int64  \n",
      " 24  AcceptedCmp2         2240 non-null   int64  \n",
      " 25  Complain             2240 non-null   int64  \n",
      " 26  Z_CostContact        2240 non-null   int64  \n",
      " 27  Z_Revenue            2240 non-null   int64  \n",
      " 28  Response             2240 non-null   int64  \n",
      "dtypes: float64(1), int64(25), object(3)\n",
      "memory usage: 507.6+ KB\n"
     ]
    }
   ],
   "source": [
    "data.info()"
   ]
  },
  {
   "cell_type": "code",
   "execution_count": 4,
   "id": "2881ff28",
   "metadata": {
    "execution": {
     "iopub.execute_input": "2024-06-21T20:02:07.218020Z",
     "iopub.status.busy": "2024-06-21T20:02:07.217153Z",
     "iopub.status.idle": "2024-06-21T20:02:07.228752Z",
     "shell.execute_reply": "2024-06-21T20:02:07.227598Z"
    },
    "papermill": {
     "duration": 0.02052,
     "end_time": "2024-06-21T20:02:07.231266",
     "exception": false,
     "start_time": "2024-06-21T20:02:07.210746",
     "status": "completed"
    },
    "tags": []
   },
   "outputs": [],
   "source": [
    "data = data.astype({'ID': 'object',\n",
    "                    'Dt_Customer': 'object',\n",
    "                    'AcceptedCmp1': 'object',\n",
    "                    'AcceptedCmp2': 'object',\n",
    "                    'AcceptedCmp3': 'object',\n",
    "                    'AcceptedCmp4': 'object',\n",
    "                    'AcceptedCmp5': 'object',\n",
    "                    'Response': 'object'})"
   ]
  },
  {
   "cell_type": "code",
   "execution_count": 5,
   "id": "54b0d319",
   "metadata": {
    "execution": {
     "iopub.execute_input": "2024-06-21T20:02:07.244277Z",
     "iopub.status.busy": "2024-06-21T20:02:07.243199Z",
     "iopub.status.idle": "2024-06-21T20:02:07.259967Z",
     "shell.execute_reply": "2024-06-21T20:02:07.258757Z"
    },
    "papermill": {
     "duration": 0.025674,
     "end_time": "2024-06-21T20:02:07.262279",
     "exception": false,
     "start_time": "2024-06-21T20:02:07.236605",
     "status": "completed"
    },
    "tags": []
   },
   "outputs": [
    {
     "name": "stdout",
     "output_type": "stream",
     "text": [
      "<class 'pandas.core.frame.DataFrame'>\n",
      "RangeIndex: 2240 entries, 0 to 2239\n",
      "Data columns (total 29 columns):\n",
      " #   Column               Non-Null Count  Dtype  \n",
      "---  ------               --------------  -----  \n",
      " 0   ID                   2240 non-null   object \n",
      " 1   Year_Birth           2240 non-null   int64  \n",
      " 2   Education            2240 non-null   object \n",
      " 3   Marital_Status       2240 non-null   object \n",
      " 4   Income               2216 non-null   float64\n",
      " 5   Kidhome              2240 non-null   int64  \n",
      " 6   Teenhome             2240 non-null   int64  \n",
      " 7   Dt_Customer          2240 non-null   object \n",
      " 8   Recency              2240 non-null   int64  \n",
      " 9   MntWines             2240 non-null   int64  \n",
      " 10  MntFruits            2240 non-null   int64  \n",
      " 11  MntMeatProducts      2240 non-null   int64  \n",
      " 12  MntFishProducts      2240 non-null   int64  \n",
      " 13  MntSweetProducts     2240 non-null   int64  \n",
      " 14  MntGoldProds         2240 non-null   int64  \n",
      " 15  NumDealsPurchases    2240 non-null   int64  \n",
      " 16  NumWebPurchases      2240 non-null   int64  \n",
      " 17  NumCatalogPurchases  2240 non-null   int64  \n",
      " 18  NumStorePurchases    2240 non-null   int64  \n",
      " 19  NumWebVisitsMonth    2240 non-null   int64  \n",
      " 20  AcceptedCmp3         2240 non-null   object \n",
      " 21  AcceptedCmp4         2240 non-null   object \n",
      " 22  AcceptedCmp5         2240 non-null   object \n",
      " 23  AcceptedCmp1         2240 non-null   object \n",
      " 24  AcceptedCmp2         2240 non-null   object \n",
      " 25  Complain             2240 non-null   int64  \n",
      " 26  Z_CostContact        2240 non-null   int64  \n",
      " 27  Z_Revenue            2240 non-null   int64  \n",
      " 28  Response             2240 non-null   object \n",
      "dtypes: float64(1), int64(18), object(10)\n",
      "memory usage: 507.6+ KB\n"
     ]
    }
   ],
   "source": [
    "data.info()"
   ]
  },
  {
   "cell_type": "code",
   "execution_count": 6,
   "id": "f8b067e1",
   "metadata": {
    "execution": {
     "iopub.execute_input": "2024-06-21T20:02:07.275480Z",
     "iopub.status.busy": "2024-06-21T20:02:07.274506Z",
     "iopub.status.idle": "2024-06-21T20:02:07.339265Z",
     "shell.execute_reply": "2024-06-21T20:02:07.338253Z"
    },
    "papermill": {
     "duration": 0.073692,
     "end_time": "2024-06-21T20:02:07.341563",
     "exception": false,
     "start_time": "2024-06-21T20:02:07.267871",
     "status": "completed"
    },
    "tags": []
   },
   "outputs": [
    {
     "data": {
      "text/html": [
       "<div>\n",
       "<style scoped>\n",
       "    .dataframe tbody tr th:only-of-type {\n",
       "        vertical-align: middle;\n",
       "    }\n",
       "\n",
       "    .dataframe tbody tr th {\n",
       "        vertical-align: top;\n",
       "    }\n",
       "\n",
       "    .dataframe thead th {\n",
       "        text-align: right;\n",
       "    }\n",
       "</style>\n",
       "<table border=\"1\" class=\"dataframe\">\n",
       "  <thead>\n",
       "    <tr style=\"text-align: right;\">\n",
       "      <th></th>\n",
       "      <th>Income</th>\n",
       "      <th>Kidhome</th>\n",
       "      <th>Teenhome</th>\n",
       "      <th>Recency</th>\n",
       "      <th>MntWines</th>\n",
       "      <th>MntFruits</th>\n",
       "      <th>MntMeatProducts</th>\n",
       "      <th>MntFishProducts</th>\n",
       "      <th>MntSweetProducts</th>\n",
       "      <th>MntGoldProds</th>\n",
       "      <th>NumDealsPurchases</th>\n",
       "      <th>NumWebPurchases</th>\n",
       "      <th>NumCatalogPurchases</th>\n",
       "      <th>NumStorePurchases</th>\n",
       "      <th>NumWebVisitsMonth</th>\n",
       "      <th>Complain</th>\n",
       "      <th>Z_CostContact</th>\n",
       "      <th>Z_Revenue</th>\n",
       "    </tr>\n",
       "  </thead>\n",
       "  <tbody>\n",
       "    <tr>\n",
       "      <th>count</th>\n",
       "      <td>2216.00</td>\n",
       "      <td>2240.00</td>\n",
       "      <td>2240.00</td>\n",
       "      <td>2240.00</td>\n",
       "      <td>2240.00</td>\n",
       "      <td>2240.00</td>\n",
       "      <td>2240.00</td>\n",
       "      <td>2240.00</td>\n",
       "      <td>2240.00</td>\n",
       "      <td>2240.00</td>\n",
       "      <td>2240.00</td>\n",
       "      <td>2240.00</td>\n",
       "      <td>2240.00</td>\n",
       "      <td>2240.00</td>\n",
       "      <td>2240.00</td>\n",
       "      <td>2240.00</td>\n",
       "      <td>2240.0</td>\n",
       "      <td>2240.0</td>\n",
       "    </tr>\n",
       "    <tr>\n",
       "      <th>mean</th>\n",
       "      <td>52247.25</td>\n",
       "      <td>0.44</td>\n",
       "      <td>0.51</td>\n",
       "      <td>49.11</td>\n",
       "      <td>303.94</td>\n",
       "      <td>26.30</td>\n",
       "      <td>166.95</td>\n",
       "      <td>37.53</td>\n",
       "      <td>27.06</td>\n",
       "      <td>44.02</td>\n",
       "      <td>2.33</td>\n",
       "      <td>4.08</td>\n",
       "      <td>2.66</td>\n",
       "      <td>5.79</td>\n",
       "      <td>5.32</td>\n",
       "      <td>0.01</td>\n",
       "      <td>3.0</td>\n",
       "      <td>11.0</td>\n",
       "    </tr>\n",
       "    <tr>\n",
       "      <th>std</th>\n",
       "      <td>25173.08</td>\n",
       "      <td>0.54</td>\n",
       "      <td>0.54</td>\n",
       "      <td>28.96</td>\n",
       "      <td>336.60</td>\n",
       "      <td>39.77</td>\n",
       "      <td>225.72</td>\n",
       "      <td>54.63</td>\n",
       "      <td>41.28</td>\n",
       "      <td>52.17</td>\n",
       "      <td>1.93</td>\n",
       "      <td>2.78</td>\n",
       "      <td>2.92</td>\n",
       "      <td>3.25</td>\n",
       "      <td>2.43</td>\n",
       "      <td>0.10</td>\n",
       "      <td>0.0</td>\n",
       "      <td>0.0</td>\n",
       "    </tr>\n",
       "    <tr>\n",
       "      <th>min</th>\n",
       "      <td>1730.00</td>\n",
       "      <td>0.00</td>\n",
       "      <td>0.00</td>\n",
       "      <td>0.00</td>\n",
       "      <td>0.00</td>\n",
       "      <td>0.00</td>\n",
       "      <td>0.00</td>\n",
       "      <td>0.00</td>\n",
       "      <td>0.00</td>\n",
       "      <td>0.00</td>\n",
       "      <td>0.00</td>\n",
       "      <td>0.00</td>\n",
       "      <td>0.00</td>\n",
       "      <td>0.00</td>\n",
       "      <td>0.00</td>\n",
       "      <td>0.00</td>\n",
       "      <td>3.0</td>\n",
       "      <td>11.0</td>\n",
       "    </tr>\n",
       "    <tr>\n",
       "      <th>25%</th>\n",
       "      <td>35303.00</td>\n",
       "      <td>0.00</td>\n",
       "      <td>0.00</td>\n",
       "      <td>24.00</td>\n",
       "      <td>23.75</td>\n",
       "      <td>1.00</td>\n",
       "      <td>16.00</td>\n",
       "      <td>3.00</td>\n",
       "      <td>1.00</td>\n",
       "      <td>9.00</td>\n",
       "      <td>1.00</td>\n",
       "      <td>2.00</td>\n",
       "      <td>0.00</td>\n",
       "      <td>3.00</td>\n",
       "      <td>3.00</td>\n",
       "      <td>0.00</td>\n",
       "      <td>3.0</td>\n",
       "      <td>11.0</td>\n",
       "    </tr>\n",
       "    <tr>\n",
       "      <th>50%</th>\n",
       "      <td>51381.50</td>\n",
       "      <td>0.00</td>\n",
       "      <td>0.00</td>\n",
       "      <td>49.00</td>\n",
       "      <td>173.50</td>\n",
       "      <td>8.00</td>\n",
       "      <td>67.00</td>\n",
       "      <td>12.00</td>\n",
       "      <td>8.00</td>\n",
       "      <td>24.00</td>\n",
       "      <td>2.00</td>\n",
       "      <td>4.00</td>\n",
       "      <td>2.00</td>\n",
       "      <td>5.00</td>\n",
       "      <td>6.00</td>\n",
       "      <td>0.00</td>\n",
       "      <td>3.0</td>\n",
       "      <td>11.0</td>\n",
       "    </tr>\n",
       "    <tr>\n",
       "      <th>75%</th>\n",
       "      <td>68522.00</td>\n",
       "      <td>1.00</td>\n",
       "      <td>1.00</td>\n",
       "      <td>74.00</td>\n",
       "      <td>504.25</td>\n",
       "      <td>33.00</td>\n",
       "      <td>232.00</td>\n",
       "      <td>50.00</td>\n",
       "      <td>33.00</td>\n",
       "      <td>56.00</td>\n",
       "      <td>3.00</td>\n",
       "      <td>6.00</td>\n",
       "      <td>4.00</td>\n",
       "      <td>8.00</td>\n",
       "      <td>7.00</td>\n",
       "      <td>0.00</td>\n",
       "      <td>3.0</td>\n",
       "      <td>11.0</td>\n",
       "    </tr>\n",
       "    <tr>\n",
       "      <th>max</th>\n",
       "      <td>666666.00</td>\n",
       "      <td>2.00</td>\n",
       "      <td>2.00</td>\n",
       "      <td>99.00</td>\n",
       "      <td>1493.00</td>\n",
       "      <td>199.00</td>\n",
       "      <td>1725.00</td>\n",
       "      <td>259.00</td>\n",
       "      <td>263.00</td>\n",
       "      <td>362.00</td>\n",
       "      <td>15.00</td>\n",
       "      <td>27.00</td>\n",
       "      <td>28.00</td>\n",
       "      <td>13.00</td>\n",
       "      <td>20.00</td>\n",
       "      <td>1.00</td>\n",
       "      <td>3.0</td>\n",
       "      <td>11.0</td>\n",
       "    </tr>\n",
       "  </tbody>\n",
       "</table>\n",
       "</div>"
      ],
      "text/plain": [
       "          Income  Kidhome  Teenhome  Recency  MntWines  MntFruits  \\\n",
       "count    2216.00  2240.00   2240.00  2240.00   2240.00    2240.00   \n",
       "mean    52247.25     0.44      0.51    49.11    303.94      26.30   \n",
       "std     25173.08     0.54      0.54    28.96    336.60      39.77   \n",
       "min      1730.00     0.00      0.00     0.00      0.00       0.00   \n",
       "25%     35303.00     0.00      0.00    24.00     23.75       1.00   \n",
       "50%     51381.50     0.00      0.00    49.00    173.50       8.00   \n",
       "75%     68522.00     1.00      1.00    74.00    504.25      33.00   \n",
       "max    666666.00     2.00      2.00    99.00   1493.00     199.00   \n",
       "\n",
       "       MntMeatProducts  MntFishProducts  MntSweetProducts  MntGoldProds  \\\n",
       "count          2240.00          2240.00           2240.00       2240.00   \n",
       "mean            166.95            37.53             27.06         44.02   \n",
       "std             225.72            54.63             41.28         52.17   \n",
       "min               0.00             0.00              0.00          0.00   \n",
       "25%              16.00             3.00              1.00          9.00   \n",
       "50%              67.00            12.00              8.00         24.00   \n",
       "75%             232.00            50.00             33.00         56.00   \n",
       "max            1725.00           259.00            263.00        362.00   \n",
       "\n",
       "       NumDealsPurchases  NumWebPurchases  NumCatalogPurchases  \\\n",
       "count            2240.00          2240.00              2240.00   \n",
       "mean                2.33             4.08                 2.66   \n",
       "std                 1.93             2.78                 2.92   \n",
       "min                 0.00             0.00                 0.00   \n",
       "25%                 1.00             2.00                 0.00   \n",
       "50%                 2.00             4.00                 2.00   \n",
       "75%                 3.00             6.00                 4.00   \n",
       "max                15.00            27.00                28.00   \n",
       "\n",
       "       NumStorePurchases  NumWebVisitsMonth  Complain  Z_CostContact  \\\n",
       "count            2240.00            2240.00   2240.00         2240.0   \n",
       "mean                5.79               5.32      0.01            3.0   \n",
       "std                 3.25               2.43      0.10            0.0   \n",
       "min                 0.00               0.00      0.00            3.0   \n",
       "25%                 3.00               3.00      0.00            3.0   \n",
       "50%                 5.00               6.00      0.00            3.0   \n",
       "75%                 8.00               7.00      0.00            3.0   \n",
       "max                13.00              20.00      1.00            3.0   \n",
       "\n",
       "       Z_Revenue  \n",
       "count     2240.0  \n",
       "mean        11.0  \n",
       "std          0.0  \n",
       "min         11.0  \n",
       "25%         11.0  \n",
       "50%         11.0  \n",
       "75%         11.0  \n",
       "max         11.0  "
      ]
     },
     "execution_count": 6,
     "metadata": {},
     "output_type": "execute_result"
    }
   ],
   "source": [
    "round(data.drop(['Year_Birth'], axis = 1).describe(exclude = ['object']), 2)"
   ]
  },
  {
   "cell_type": "code",
   "execution_count": 7,
   "id": "827894ca",
   "metadata": {
    "execution": {
     "iopub.execute_input": "2024-06-21T20:02:07.355165Z",
     "iopub.status.busy": "2024-06-21T20:02:07.354317Z",
     "iopub.status.idle": "2024-06-21T20:02:07.361526Z",
     "shell.execute_reply": "2024-06-21T20:02:07.360587Z"
    },
    "papermill": {
     "duration": 0.016558,
     "end_time": "2024-06-21T20:02:07.363847",
     "exception": false,
     "start_time": "2024-06-21T20:02:07.347289",
     "status": "completed"
    },
    "tags": []
   },
   "outputs": [],
   "source": [
    "data = data[['ID', 'Year_Birth', 'Income', 'Kidhome', 'Teenhome', 'Recency', 'MntWines', \n",
    "             'MntFruits','MntMeatProducts','MntFishProducts','MntSweetProducts','MntGoldProds',\n",
    "             'NumDealsPurchases','NumWebPurchases','NumCatalogPurchases','NumStorePurchases','NumWebVisitsMonth','Complain']]"
   ]
  },
  {
   "cell_type": "code",
   "execution_count": 8,
   "id": "aa31a6da",
   "metadata": {
    "execution": {
     "iopub.execute_input": "2024-06-21T20:02:07.377025Z",
     "iopub.status.busy": "2024-06-21T20:02:07.376641Z",
     "iopub.status.idle": "2024-06-21T20:02:07.382933Z",
     "shell.execute_reply": "2024-06-21T20:02:07.381674Z"
    },
    "papermill": {
     "duration": 0.015687,
     "end_time": "2024-06-21T20:02:07.385328",
     "exception": false,
     "start_time": "2024-06-21T20:02:07.369641",
     "status": "completed"
    },
    "tags": []
   },
   "outputs": [],
   "source": [
    "def create_age(data, var):\n",
    "    data['Age'] = 2024 - data[var]\n",
    "    \n",
    "    return(data.drop([var], axis = 1))\n",
    "\n",
    "def create_parent(data, var0, var1):\n",
    "    data['IsParent'] = np.where(data[var0] + data[var1] > 0, 1, 0)\n",
    "    \n",
    "    return(data.drop([var0, var1], axis = 1))"
   ]
  },
  {
   "cell_type": "code",
   "execution_count": 9,
   "id": "f78408c3",
   "metadata": {
    "execution": {
     "iopub.execute_input": "2024-06-21T20:02:07.398782Z",
     "iopub.status.busy": "2024-06-21T20:02:07.398387Z",
     "iopub.status.idle": "2024-06-21T20:02:08.968289Z",
     "shell.execute_reply": "2024-06-21T20:02:08.967249Z"
    },
    "papermill": {
     "duration": 1.579522,
     "end_time": "2024-06-21T20:02:08.970717",
     "exception": false,
     "start_time": "2024-06-21T20:02:07.391195",
     "status": "completed"
    },
    "tags": []
   },
   "outputs": [],
   "source": [
    "from sklearn.model_selection import train_test_split\n",
    "from sklearn.compose import ColumnTransformer\n",
    "from sklearn.pipeline import Pipeline\n",
    "from sklearn.preprocessing import StandardScaler, OneHotEncoder, FunctionTransformer\n",
    "from sklearn.impute import SimpleImputer\n",
    "\n",
    "from sklearn.cluster import KMeans\n",
    "\n",
    "import warnings\n",
    "warnings.filterwarnings('ignore')"
   ]
  },
  {
   "cell_type": "code",
   "execution_count": 10,
   "id": "2f589a30",
   "metadata": {
    "execution": {
     "iopub.execute_input": "2024-06-21T20:02:08.985312Z",
     "iopub.status.busy": "2024-06-21T20:02:08.984893Z",
     "iopub.status.idle": "2024-06-21T20:02:08.996362Z",
     "shell.execute_reply": "2024-06-21T20:02:08.995439Z"
    },
    "papermill": {
     "duration": 0.021921,
     "end_time": "2024-06-21T20:02:08.998565",
     "exception": false,
     "start_time": "2024-06-21T20:02:08.976644",
     "status": "completed"
    },
    "tags": []
   },
   "outputs": [],
   "source": [
    "columnAge_creator = Pipeline(\n",
    "    steps=[\n",
    "        (\"createColumnAge\", FunctionTransformer(create_age, \n",
    "                                                  kw_args={'var': 'Year_Birth'})),\n",
    "        (\"scaler\", StandardScaler())\n",
    "    ]\n",
    ")\n",
    "\n",
    "columnParent_creator = Pipeline(\n",
    "    steps=[\n",
    "        (\"createColumnParent\", FunctionTransformer(create_parent, \n",
    "                                                  kw_args={'var0': 'Kidhome',\n",
    "                                                           'var1': 'Teenhome'})),\n",
    "        (\"scaler\", StandardScaler())\n",
    "    ]\n",
    ")\n",
    "\n",
    "features_num = data.select_dtypes(include=[np.number]).columns.tolist()\n",
    "features_num = [feature for feature in features_num if feature not in ['Year_Birth', 'Kidhome', 'Teenhome']]\n",
    "\n",
    "numeric_transformer = Pipeline(\n",
    "    steps=[(\"imputer\", SimpleImputer(strategy=\"median\")), \n",
    "           (\"scaler\", StandardScaler())\n",
    "          ]\n",
    ")\n",
    "\n",
    "ct = ColumnTransformer(\n",
    "    transformers=[\n",
    "        (\"col1\", columnAge_creator, ['Year_Birth']),\n",
    "        (\"col2\", columnParent_creator, ['Kidhome', 'Teenhome']),\n",
    "        (\"num\", numeric_transformer, features_num),\n",
    "        #(\"cat\", categorical_transformer, features_cat),\n",
    "    ],\n",
    "    remainder=\"passthrough\"\n",
    ")#.set_output(transform=\"pandas\")\n",
    "\n",
    "#new_data = ct.fit_transform(data)\n",
    "\n",
    "#new_data\n"
   ]
  },
  {
   "cell_type": "code",
   "execution_count": 11,
   "id": "b1773d86",
   "metadata": {
    "execution": {
     "iopub.execute_input": "2024-06-21T20:02:09.011686Z",
     "iopub.status.busy": "2024-06-21T20:02:09.011283Z",
     "iopub.status.idle": "2024-06-21T20:02:09.016514Z",
     "shell.execute_reply": "2024-06-21T20:02:09.015482Z"
    },
    "papermill": {
     "duration": 0.014677,
     "end_time": "2024-06-21T20:02:09.018873",
     "exception": false,
     "start_time": "2024-06-21T20:02:09.004196",
     "status": "completed"
    },
    "tags": []
   },
   "outputs": [],
   "source": [
    "pipe = Pipeline(\n",
    "    steps=[(\"preprocessor\", ct)]\n",
    ")"
   ]
  },
  {
   "cell_type": "code",
   "execution_count": 12,
   "id": "79f2dc22",
   "metadata": {
    "execution": {
     "iopub.execute_input": "2024-06-21T20:02:09.032251Z",
     "iopub.status.busy": "2024-06-21T20:02:09.031820Z",
     "iopub.status.idle": "2024-06-21T20:02:19.876554Z",
     "shell.execute_reply": "2024-06-21T20:02:19.875490Z"
    },
    "papermill": {
     "duration": 10.85398,
     "end_time": "2024-06-21T20:02:19.878609",
     "exception": false,
     "start_time": "2024-06-21T20:02:09.024629",
     "status": "completed"
    },
    "tags": []
   },
   "outputs": [
    {
     "data": {
      "image/png": "[encoded data removed]",
      "text/plain": [
       "<Figure size 800x550 with 2 Axes>"
      ]
     },
     "metadata": {},
     "output_type": "display_data"
    },
    {
     "data": {
      "text/plain": [
       "<Axes: title={'center': 'Distortion Score Elbow for KMeans Clustering'}, xlabel='k', ylabel='distortion score'>"
      ]
     },
     "execution_count": 12,
     "metadata": {},
     "output_type": "execute_result"
    }
   ],
   "source": [
    "from yellowbrick.cluster import KElbowVisualizer, SilhouetteVisualizer\n",
    "\n",
    "elbow = KElbowVisualizer(KMeans(), k = 9)\n",
    "elbow.fit(pipe.fit_transform(data))\n",
    "elbow.show()"
   ]
  },
  {
   "cell_type": "code",
   "execution_count": 13,
   "id": "74ead88e",
   "metadata": {
    "execution": {
     "iopub.execute_input": "2024-06-21T20:02:19.894494Z",
     "iopub.status.busy": "2024-06-21T20:02:19.893824Z",
     "iopub.status.idle": "2024-06-21T20:02:21.765125Z",
     "shell.execute_reply": "2024-06-21T20:02:21.763839Z"
    },
    "papermill": {
     "duration": 1.882113,
     "end_time": "2024-06-21T20:02:21.767729",
     "exception": false,
     "start_time": "2024-06-21T20:02:19.885616",
     "status": "completed"
    },
    "tags": []
   },
   "outputs": [
    {
     "data": {
      "image/png": "[encoded data removed]",
      "text/plain": [
       "<Figure size 800x550 with 1 Axes>"
      ]
     },
     "metadata": {},
     "output_type": "display_data"
    },
    {
     "data": {
      "text/plain": [
       "<Axes: title={'center': 'Silhouette Plot of KMeans Clustering for 2240 Samples in 4 Centers'}, xlabel='silhouette coefficient values', ylabel='cluster label'>"
      ]
     },
     "execution_count": 13,
     "metadata": {},
     "output_type": "execute_result"
    }
   ],
   "source": [
    "elbow = SilhouetteVisualizer(KMeans(4), metric='silhouette')\n",
    "elbow.fit(pipe.fit_transform(data))\n",
    "elbow.show()"
   ]
  },
  {
   "cell_type": "code",
   "execution_count": 14,
   "id": "9f7b141e",
   "metadata": {
    "execution": {
     "iopub.execute_input": "2024-06-21T20:02:21.785303Z",
     "iopub.status.busy": "2024-06-21T20:02:21.784888Z",
     "iopub.status.idle": "2024-06-21T20:02:23.099200Z",
     "shell.execute_reply": "2024-06-21T20:02:23.097734Z"
    },
    "papermill": {
     "duration": 1.329888,
     "end_time": "2024-06-21T20:02:23.105518",
     "exception": false,
     "start_time": "2024-06-21T20:02:21.775630",
     "status": "completed"
    },
    "tags": []
   },
   "outputs": [],
   "source": [
    "pipe = Pipeline(\n",
    "    steps=[(\"preprocessor\", ct),\n",
    "           (\"clusterization\", KMeans(4, random_state=0))]\n",
    ")\n",
    "\n",
    "pipe.fit(data)\n",
    "y_cluster = pipe.predict(data)"
   ]
  },
  {
   "cell_type": "code",
   "execution_count": 15,
   "id": "a23ef24b",
   "metadata": {
    "execution": {
     "iopub.execute_input": "2024-06-21T20:02:23.126716Z",
     "iopub.status.busy": "2024-06-21T20:02:23.125800Z",
     "iopub.status.idle": "2024-06-21T20:02:23.137078Z",
     "shell.execute_reply": "2024-06-21T20:02:23.135437Z"
    },
    "papermill": {
     "duration": 0.025646,
     "end_time": "2024-06-21T20:02:23.140965",
     "exception": false,
     "start_time": "2024-06-21T20:02:23.115319",
     "status": "completed"
    },
    "tags": []
   },
   "outputs": [
    {
     "data": {
      "text/plain": [
       "array([0, 2, 0, ..., 1, 1, 3], dtype=int32)"
      ]
     },
     "execution_count": 15,
     "metadata": {},
     "output_type": "execute_result"
    }
   ],
   "source": [
    "y_cluster"
   ]
  },
  {
   "cell_type": "code",
   "execution_count": null,
   "id": "2c604215",
   "metadata": {
    "papermill": {
     "duration": 0.008999,
     "end_time": "2024-06-21T20:02:23.159200",
     "exception": false,
     "start_time": "2024-06-21T20:02:23.150201",
     "status": "completed"
    },
    "tags": []
   },
   "outputs": [],
   "source": []
  }
 ],
 "metadata": {
  "kaggle": {
   "accelerator": "none",
   "dataSources": [
    {
     "datasetId": 4300228,
     "sourceId": 7396106,
     "sourceType": "datasetVersion"
    }
   ],
   "dockerImageVersionId": 30732,
   "isGpuEnabled": false,
   "isInternetEnabled": true,
   "language": "python",
   "sourceType": "notebook"
  },
  "kernelspec": {
   "display_name": "Python 3",
   "language": "python",
   "name": "python3"
  },
  "language_info": {
   "codemirror_mode": {
    "name": "ipython",
    "version": 3
   },
   "file_extension": ".py",
   "mimetype": "text/x-python",
   "name": "python",
   "nbconvert_exporter": "python",
   "pygments_lexer": "ipython3",
   "version": "3.10.13"
  },
  "papermill": {
   "default_parameters": {},
   "duration": 20.465859,
   "end_time": "2024-06-21T20:02:23.892380",
   "environment_variables": {},
   "exception": null,
   "input_path": "__notebook__.ipynb",
   "output_path": "__notebook__.ipynb",
   "parameters": {},
   "start_time": "2024-06-21T20:02:03.426521",
   "version": "2.5.0"
  }
 },
 "nbformat": 4,
 "nbformat_minor": 5
}
